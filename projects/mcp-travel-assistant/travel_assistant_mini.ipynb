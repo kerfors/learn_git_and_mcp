{
 "cells": [
  {
   "cell_type": "code",
   "execution_count": null,
   "id": "a7fff30c-aa96-44db-a601-5a92a4a1f5f9",
   "metadata": {},
   "outputs": [],
   "source": [
    "from pydantic_ai import Agent\n",
    "from pydantic_ai.mcp import MCPServerStdio\n",
    "import os\n",
    "\n",
    "# Setup API key\n",
    "os.environ[\"ANTHROPIC_API_KEY\"] = os.environ.get(\"ANTHROPIC_API_KEY\") or input(\"Enter API key: \")\n",
    "\n",
    "# Create Airbnb server (minimal config)\n",
    "server = MCPServerStdio(\n",
    "    command='npx',\n",
    "    args=['-y', '@openbnb/mcp-server-airbnb'],\n",
    "    env=os.environ\n",
    ")\n",
    "\n",
    "# Create agent\n",
    "agent = Agent(\n",
    "    'claude-3-7-sonnet-20250219',\n",
    "    system_prompt=\"You help find Airbnb accommodations.\",\n",
    "    mcp_servers=[server]\n",
    ")\n",
    "\n",
    "# Main function\n",
    "async def find_airbnb():\n",
    "    try:\n",
    "        async with agent.run_mcp_servers():\n",
    "            # Your search query\n",
    "            result = await agent.run(\"\"\"Find 3 Airbnbs in Stockholm for 2 people, \n",
    "                                     check-in December 20, checkout December 23\"\"\")\n",
    "            print(result.output)\n",
    "    except Exception as e:\n",
    "        print(f\"Error: {e}\")\n",
    "\n",
    "# Run\n",
    "await find_airbnb()"
   ]
  },
  {
   "cell_type": "code",
   "execution_count": null,
   "id": "5f8266d1-8fbf-4ae7-b853-9fa2e58fab63",
   "metadata": {},
   "outputs": [],
   "source": []
  }
 ],
 "metadata": {
  "kernelspec": {
   "display_name": "Python 3 (ipykernel)",
   "language": "python",
   "name": "python3"
  },
  "language_info": {
   "codemirror_mode": {
    "name": "ipython",
    "version": 3
   },
   "file_extension": ".py",
   "mimetype": "text/x-python",
   "name": "python",
   "nbconvert_exporter": "python",
   "pygments_lexer": "ipython3",
   "version": "3.12.6"
  }
 },
 "nbformat": 4,
 "nbformat_minor": 5
}
